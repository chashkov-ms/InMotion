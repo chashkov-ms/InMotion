{
 "cells": [
  {
   "cell_type": "code",
   "execution_count": null,
   "metadata": {},
   "outputs": [],
   "source": [
    "import pandas as pd\n",
    "import numpy as np\n",
    "import math\n",
    "import cmath\n",
    "import matplotlib.pyplot as plt\n",
    "from time import time\n",
    "\n",
    "import Kalman.Kalman_9 as k9\n",
    "import Kalman.Kalman_10 as k10\n",
    "import Kalman.KalmanVelocity as kv\n",
    "import Kalman.Kalman_4_order as lin_k_4"
   ]
  },
  {
   "cell_type": "code",
   "execution_count": null,
   "metadata": {},
   "outputs": [],
   "source": [
    "def plot_grid():\n",
    "    plt.minorticks_on()\n",
    "    #  Определяем внешний вид линий основной сетки:\n",
    "    plt.grid(which='major',\n",
    "        color = 'k', \n",
    "        linewidth = 1)\n",
    "\n",
    "    #  Определяем внешний вид линий вспомогательной сетки:\n",
    "    plt.grid(which='minor', \n",
    "        color = 'k', \n",
    "        linestyle = ':')"
   ]
  },
  {
   "cell_type": "code",
   "execution_count": null,
   "metadata": {},
   "outputs": [],
   "source": [
    "def clear_emission(data):\n",
    "    r = [0]\n",
    "    porog = [0]\n",
    "    new_data = data.copy()\n",
    "    i = 1\n",
    "    while i < len(new_data.x):\n",
    "        r.append((new_data.loc[i].x-new_data.loc[i-1].x)**2+\n",
    "             (new_data.loc[i].y-new_data.loc[i-1].y)**2\n",
    "            )\n",
    "        porog.append((new_data.loc[i].time-new_data.loc[i-1].time)/100*0.85)\n",
    "        if (r[-1] > porog[-1]**2):\n",
    "            new_data = new_data.drop([i]).reset_index(drop=True)\n",
    "#             print(\"drop {}\".format(i))\n",
    "        else:\n",
    "            i += 1\n",
    "            \n",
    "    return new_data"
   ]
  },
  {
   "cell_type": "markdown",
   "metadata": {},
   "source": [
    "# Чтение данных"
   ]
  },
  {
   "cell_type": "code",
   "execution_count": null,
   "metadata": {},
   "outputs": [],
   "source": [
    "data = pd.read_csv(\"data.csv\")\n",
    "data = data[['tag_id', 'x', 'y', 'time']]\n",
    "data_212 = data[data.tag_id ==  212.0]\\\n",
    "    [['x', 'y', 'time']].reset_index(drop=True)\n",
    "data_213 = data[data.tag_id ==  213.0]\\\n",
    "    [['x', 'y', 'time']].reset_index(drop=True)\n",
    "data_215 = data[data.tag_id ==  215.0]\\\n",
    "    [['x', 'y', 'time']].reset_index(drop=True)\n",
    "data_217 = data[data.tag_id ==  217.0]\\\n",
    "    [['x', 'y', 'time']].reset_index(drop=True)\n",
    "data_219 = data[data.tag_id ==  219.0]\\\n",
    "    [['x', 'y', 'time']].reset_index(drop=True)\n",
    "data_203 = data[data.tag_id ==  203.0]\\\n",
    "    [['x', 'y', 'time']].reset_index(drop=True)"
   ]
  },
  {
   "cell_type": "markdown",
   "metadata": {},
   "source": [
    "# Тестирование фильтров Калмана"
   ]
  },
  {
   "cell_type": "markdown",
   "metadata": {},
   "source": [
    "## Kalman 9 order"
   ]
  },
  {
   "cell_type": "code",
   "execution_count": null,
   "metadata": {},
   "outputs": [],
   "source": [
    "lin_kalman_4 = lin_k_4.LinearKalman4()\n",
    "\n",
    "data_212_c = clear_emission(data_212)\n",
    "data_213_c = clear_emission(data_213)\n",
    "data_215_c = clear_emission(data_215)\n",
    "\n",
    "start_time_212 = time()\n",
    "data_212_f = lin_kalman_4.filtering(data_212_c)\n",
    "end_time_212 = time()\n",
    "\n",
    "lin_kalman_4.clear()\n",
    "start_time_213 = time()\n",
    "data_213_f = lin_kalman_4.filtering(data_213_c)\n",
    "end_time_213 = time()\n",
    "\n",
    "lin_kalman_4.clear()\n",
    "start_time_215 = time()\n",
    "data_215_f = lin_kalman_4.filtering(data_215_c)\n",
    "end_time_215 = time()"
   ]
  },
  {
   "cell_type": "code",
   "execution_count": null,
   "metadata": {
    "scrolled": true
   },
   "outputs": [],
   "source": [
    "plt.rcParams['figure.figsize'] = [10, 5]\n",
    "plt.subplot(1, 2, 1)\n",
    "plt.scatter(data_212_c.time, data_212_c.x, label='data_212_x', marker = '.')\n",
    "plt.plot(data_212_f.time, data_212_f.X_f, label='data_212_filtering')\n",
    "plt.title ('Kalman_nonlinear x coord \\ntag = {}'.format(212))    \n",
    "plt.legend(loc='best')    \n",
    "plot_grid()\n",
    "\n",
    "plt.subplot(1, 2, 2)\n",
    "plt.scatter(data_212_c.time, data_212_c.y, label='data_212_y', marker = '.')\n",
    "plt.plot(data_212_f.time, data_212_f.Y_f, label='data_212_filtering')\n",
    "plt.title ('Kalman_nonlinear y coord \\ntag = {}'.format(212))    \n",
    "plt.legend(loc='best')    \n",
    "plot_grid()"
   ]
  },
  {
   "cell_type": "code",
   "execution_count": null,
   "metadata": {},
   "outputs": [],
   "source": [
    "plt.scatter(data_212.x, data_212.y, label='data_212', marker = '.', color = 'red')\n",
    "plt.scatter(data_212_c.x, data_212_c.y, label='data_212_c', marker = '.', color = 'black')\n",
    "plt.plot(data_212_f.X_f, data_212_f.Y_f, label='data_212_filtering', marker = '.')\n",
    "\n",
    "plt.xlabel('X coord, m')\n",
    "plt.ylabel('Y coord, m')\n",
    "plt.title ('Kalman_linear_4order \\ntag = {}\\ntime {} for {} row'.\n",
    "           format(212, end_time_212-start_time_212, len(data_212_f.X_f)))    \n",
    "plt.legend(loc='best')    \n",
    "plot_grid()"
   ]
  },
  {
   "cell_type": "code",
   "execution_count": null,
   "metadata": {},
   "outputs": [],
   "source": [
    "plt.scatter(data_213.x, data_213.y, label='data_213', marker = '.', color = 'red')\n",
    "plt.scatter(data_213_c.x, data_213_c.y, label='data_213_c', marker = '.', color = 'black')\n",
    "plt.plot(data_213_f.X_f, data_213_f.Y_f, label='data_213_filtering', marker = '.')\n",
    "\n",
    "plt.xlabel('X coord, m')\n",
    "plt.ylabel('Y coord, m')\n",
    "plt.title ('Kalman_linear_4order \\ntag = {}\\ntime {} for {} row'.\n",
    "           format(213, end_time_213-start_time_213, len(data_213_f.X_f)))    \n",
    "plt.legend(loc='best')    \n",
    "plot_grid()"
   ]
  },
  {
   "cell_type": "code",
   "execution_count": null,
   "metadata": {},
   "outputs": [],
   "source": [
    "plt.scatter(data_215.x, data_215.y, label='data_215', marker = '.', color = 'red')\n",
    "plt.scatter(data_215_c.x, data_215_c.y, label='data_215_c', marker = '.', color = 'black')\n",
    "plt.plot(data_215_f.X_f, data_215_f.Y_f, label='data_215_filtering', marker = '.')\n",
    "\n",
    "plt.xlabel('X coord, m')\n",
    "plt.ylabel('Y coord, m')\n",
    "plt.title ('Kalman_linear_4order \\ntag = {}\\ntime {} for {} row'.\n",
    "           format(215, end_time_215-start_time_215, len(data_215_f.X_f)))    \n",
    "plt.legend(loc='best')    \n",
    "plot_grid()"
   ]
  },
  {
   "cell_type": "code",
   "execution_count": null,
   "metadata": {},
   "outputs": [],
   "source": []
  }
 ],
 "metadata": {
  "kernelspec": {
   "display_name": "Python 3",
   "language": "python",
   "name": "python3"
  },
  "language_info": {
   "codemirror_mode": {
    "name": "ipython",
    "version": 3
   },
   "file_extension": ".py",
   "mimetype": "text/x-python",
   "name": "python",
   "nbconvert_exporter": "python",
   "pygments_lexer": "ipython3",
   "version": "3.7.5"
  },
  "toc": {
   "base_numbering": 1,
   "nav_menu": {},
   "number_sections": true,
   "sideBar": true,
   "skip_h1_title": false,
   "title_cell": "Table of Contents",
   "title_sidebar": "Contents",
   "toc_cell": false,
   "toc_position": {},
   "toc_section_display": true,
   "toc_window_display": false
  }
 },
 "nbformat": 4,
 "nbformat_minor": 4
}
